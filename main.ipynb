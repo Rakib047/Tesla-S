{
 "cells": [
  {
   "cell_type": "code",
   "execution_count": 1,
   "id": "c0d0db04",
   "metadata": {},
   "outputs": [
    {
     "name": "stdout",
     "output_type": "stream",
     "text": [
      "V2 Dataset Head:\n",
      "   Unnamed: 0        Date       Open       High        Low      Close  \\\n",
      "0           0  2015-01-02  14.858000  14.883333  14.217333  14.620667   \n",
      "1           1  2015-01-05  14.303333  14.433333  13.810667  14.006000   \n",
      "2           2  2015-01-06  14.004000  14.280000  13.614000  14.085333   \n",
      "3           3  2015-01-07  14.223333  14.318667  13.985333  14.063333   \n",
      "4           4  2015-01-08  14.187333  14.253333  14.000667  14.041333   \n",
      "\n",
      "     Volume  \n",
      "0  71466000  \n",
      "1  80527500  \n",
      "2  93928500  \n",
      "3  44526000  \n",
      "4  51637500  \n",
      "\n",
      "TSLA Dataset Head:\n",
      "         Date       High        Low       Open      Close      Volume  \\\n",
      "0  2019-09-30  48.796001  47.222000  48.599998  48.174000  29399000.0   \n",
      "1  2019-10-01  49.189999  47.826000  48.299999  48.938000  30813000.0   \n",
      "2  2019-10-02  48.930000  47.886002  48.658001  48.625999  28157000.0   \n",
      "3  2019-10-03  46.896000  44.855999  46.372002  46.605999  75422500.0   \n",
      "4  2019-10-04  46.956001  45.613998  46.321999  46.285999  39975000.0   \n",
      "\n",
      "   Adj Close  \n",
      "0  48.174000  \n",
      "1  48.938000  \n",
      "2  48.625999  \n",
      "3  46.605999  \n",
      "4  46.285999  \n"
     ]
    }
   ],
   "source": [
    "import pandas as pd\n",
    "\n",
    "# Load the datasets\n",
    "df_v2 = pd.read_csv('Dataset/Tasla_Stock_Updated_V2.csv')\n",
    "df_tsla = pd.read_csv('Dataset/TSLA.csv')\n",
    "\n",
    "# Check the first few rows to confirm successful import\n",
    "print(\"V2 Dataset Head:\")\n",
    "print(df_v2.head())\n",
    "\n",
    "print(\"\\nTSLA Dataset Head:\")\n",
    "print(df_tsla.head())\n"
   ]
  }
 ],
 "metadata": {
  "kernelspec": {
   "display_name": "base",
   "language": "python",
   "name": "python3"
  },
  "language_info": {
   "codemirror_mode": {
    "name": "ipython",
    "version": 3
   },
   "file_extension": ".py",
   "mimetype": "text/x-python",
   "name": "python",
   "nbconvert_exporter": "python",
   "pygments_lexer": "ipython3",
   "version": "3.12.4"
  }
 },
 "nbformat": 4,
 "nbformat_minor": 5
}
