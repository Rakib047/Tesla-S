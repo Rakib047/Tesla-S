{
 "cells": [
  {
   "cell_type": "code",
   "execution_count": null,
   "id": "b0565adf",
   "metadata": {},
   "outputs": [
    {
     "name": "stdout",
     "output_type": "stream",
     "text": [
      "Loaded decision_tree_model (pickle model)\n",
      "Loaded linear_regression_model (pickle model)\n",
      "Loaded random_forest_model (pickle model)\n"
     ]
    },
    {
     "name": "stderr",
     "output_type": "stream",
     "text": [
      "WARNING:absl:Compiled the loaded model, but the compiled metrics have yet to be built. `model.compile_metrics` will be empty until you train or evaluate the model.\n",
      "WARNING:absl:Compiled the loaded model, but the compiled metrics have yet to be built. `model.compile_metrics` will be empty until you train or evaluate the model.\n"
     ]
    },
    {
     "name": "stdout",
     "output_type": "stream",
     "text": [
      "Loaded gru_model (Keras/TensorFlow model)\n",
      "Loaded svr_model (pickle model)\n",
      "Loaded slinear_regression_model (pickle model)\n",
      "Error loading prophet_model: invalid load key, '\\x10'.\n",
      "Loaded lstm_model (Keras/TensorFlow model)\n",
      "Loaded voting_model (pickle model)\n",
      "Loaded xgboost_model (pickle model)\n",
      "\n",
      "Available models:\n",
      "1. decision_tree_model\n",
      "2. linear_regression_model\n",
      "3. random_forest_model\n",
      "4. gru_model\n",
      "5. svr_model\n",
      "6. slinear_regression_model\n",
      "7. lstm_model\n",
      "8. voting_model\n",
      "9. xgboost_model\n"
     ]
    }
   ],
   "source": [
    "# Import necessary libraries\n",
    "import pickle\n",
    "import os\n",
    "import numpy as np\n",
    "import pandas as pd\n",
    "import matplotlib.pyplot as plt\n",
    "import seaborn as sns\n",
    "import tensorflow as tf\n",
    "from tensorflow import keras"
   ]
  },
  {
   "cell_type": "code",
   "execution_count": null,
   "id": "732a46b7",
   "metadata": {},
   "outputs": [
    {
     "name": "stderr",
     "output_type": "stream",
     "text": [
      "WARNING:absl:Compiled the loaded model, but the compiled metrics have yet to be built. `model.compile_metrics` will be empty until you train or evaluate the model.\n"
     ]
    },
    {
     "name": "stdout",
     "output_type": "stream",
     "text": [
      "Loaded decision_tree_model (pickle model)\n",
      "Loaded linear_regression_model (pickle model)\n",
      "Loaded random_forest_model (pickle model)\n",
      "Loaded gru_model (Keras/TensorFlow model)\n",
      "Loaded svr_model (pickle model)\n",
      "Loaded slinear_regression_model (pickle model)\n",
      "Error loading prophet_model: invalid load key, '\\x10'.\n"
     ]
    },
    {
     "name": "stderr",
     "output_type": "stream",
     "text": [
      "WARNING:absl:Compiled the loaded model, but the compiled metrics have yet to be built. `model.compile_metrics` will be empty until you train or evaluate the model.\n"
     ]
    },
    {
     "name": "stdout",
     "output_type": "stream",
     "text": [
      "Loaded lstm_model (Keras/TensorFlow model)\n",
      "Loaded voting_model (pickle model)\n",
      "Loaded xgboost_model (pickle model)\n",
      "\n",
      "Available models:\n",
      "1. decision_tree_model\n",
      "2. linear_regression_model\n",
      "3. random_forest_model\n",
      "4. gru_model\n",
      "5. svr_model\n",
      "6. slinear_regression_model\n",
      "7. lstm_model\n",
      "8. voting_model\n",
      "9. xgboost_model\n"
     ]
    }
   ],
   "source": [
    "models_dir = \"Models\"  \n",
    "\n",
    "# Function to load models\n",
    "def load_models(models_dir):\n",
    "    \"\"\"Load all models from the models directory.\"\"\"\n",
    "    models = {}\n",
    "    \n",
    "    for filename in os.listdir(models_dir):\n",
    "        file_path = os.path.join(models_dir, filename)\n",
    "        \n",
    "        # Skip directories and non-model files\n",
    "        if os.path.isdir(file_path) or (not filename.endswith('.pkl') and not filename.endswith('.h5')):\n",
    "            continue\n",
    "            \n",
    "        model_name = os.path.splitext(filename)[0]\n",
    "        \n",
    "        try:\n",
    "            if filename.endswith('.pkl'):\n",
    "                # Load pickle models (scikit-learn models)\n",
    "                with open(file_path, 'rb') as f:\n",
    "                    models[model_name] = pickle.load(f)\n",
    "                print(f\"Loaded {model_name} (pickle model)\")\n",
    "                \n",
    "            elif filename.endswith('.h5'):\n",
    "                # Load Keras/TensorFlow models\n",
    "                models[model_name] = keras.models.load_model(file_path)\n",
    "                print(f\"Loaded {model_name} (Keras/TensorFlow model)\")\n",
    "        except Exception as e:\n",
    "            print(f\"Error loading {model_name}: {e}\")\n",
    "    \n",
    "    return models\n",
    "\n",
    "\n",
    "models = load_models(models_dir)\n",
    "\n",
    "\n",
    "print(\"\\nAvailable models:\")\n",
    "for i, model_name in enumerate(models.keys()):\n",
    "    print(f\"{i+1}. {model_name}\")"
   ]
  }
 ],
 "metadata": {
  "kernelspec": {
   "display_name": "Python 3",
   "language": "python",
   "name": "python3"
  },
  "language_info": {
   "codemirror_mode": {
    "name": "ipython",
    "version": 3
   },
   "file_extension": ".py",
   "mimetype": "text/x-python",
   "name": "python",
   "nbconvert_exporter": "python",
   "pygments_lexer": "ipython3",
   "version": "3.10.0"
  }
 },
 "nbformat": 4,
 "nbformat_minor": 5
}
